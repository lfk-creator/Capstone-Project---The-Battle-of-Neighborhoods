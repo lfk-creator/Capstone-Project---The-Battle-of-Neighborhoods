{
 "cells": [
  {
   "cell_type": "markdown",
   "metadata": {},
   "source": [
    "<h1>Introduction</h1>"
   ]
  },
  {
   "cell_type": "markdown",
   "metadata": {},
   "source": [
    "Hong Kong is a very dynamic and vibrant city. “The City That Never Sleeps” is a well-known nickname for it. Inside those shimmering skyscrapers beneath the breathtaking skyline, are diligent people working around the clock. After all, it is what it takes to survive in the most expensive city in the world.\n",
    "\n",
    "In life, there has to be some give and take. When people are so devoted to work, they simply have no time to exercise. A study carried out by CUHK showed one-third of Hong Kong people never do exercises because they have no time for exercises. Furthermore, about one-third responded that there were not enough public sports facilities.\n",
    "\n",
    "To solve this modern healthcare crisis, effective means are necessary to help people get rid of their detrimental habits and transit to an active lifestyle. When you are living in a city lacking sports facilities and have so little time to spare, a gym at a convenient location that provides premium service could be a paradise for you.\n",
    "\n",
    "In Hong Kong, gyms are not uncommon. However, most of them do not advertise and many of them are known for scamming their members and providing subquality services. Therefore, a system is required to visually locate all the gyms in the city and provide recommendation base on the ratings of the gyms.\n",
    "\n",
    "In this project, geospatial data of the districts in Hong Kong is first obtained from Geocoder to form a dataframe. Next, Foursquare API is deployed to obtain metadata of venues in the districts, where the data of gyms are extracted from. Afterwards, the gyms are segmented according to their ratings and k-means clustering technique is adopted to allocate the gyms with similar ratings into clusters. Last, a map is produced to illustrate the clustered members in the districts of Hong Kong for people to choose their gyms base on location and rating.\n",
    "\n"
   ]
  },
  {
   "cell_type": "code",
   "execution_count": null,
   "metadata": {},
   "outputs": [],
   "source": []
  }
 ],
 "metadata": {
  "kernelspec": {
   "display_name": "Python",
   "language": "python",
   "name": "conda-env-python-py"
  },
  "language_info": {
   "codemirror_mode": {
    "name": "ipython",
    "version": 3
   },
   "file_extension": ".py",
   "mimetype": "text/x-python",
   "name": "python",
   "nbconvert_exporter": "python",
   "pygments_lexer": "ipython3",
   "version": "3.6.7"
  }
 },
 "nbformat": 4,
 "nbformat_minor": 4
}
