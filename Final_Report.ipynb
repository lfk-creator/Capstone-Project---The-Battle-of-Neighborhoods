{
 "cells": [
  {
   "cell_type": "markdown",
   "metadata": {},
   "source": [
    "<h1>Final Report</h1>"
   ]
  },
  {
   "cell_type": "markdown",
   "metadata": {},
   "source": [
    "<h2>Introduction</h2>"
   ]
  },
  {
   "cell_type": "markdown",
   "metadata": {},
   "source": [
    "Hong Kong is a very dynamic and vibrant city. “The City That Never Sleeps” is a well-known nickname for it. Inside those shimmering skyscrapers beneath the breathtaking skyline, are diligent people working around the clock. After all, it is what it takes to survive in the most expensive city in the world.\n",
    "\n",
    "In life, there has to be some give and take. When people are so devoted to work, they simply have no time to exercise. A study carried out by CUHK showed one-third of Hong Kong people never do exercises because they have no time for exercises. Furthermore, about one-third responded that there were not enough public sports facilities.\n",
    "\n",
    "To solve this modern healthcare crisis, effective means are necessary to help people get rid of their detrimental habits and transit to an active lifestyle. When you are living in a city lacking sports facilities and have so little time to spare, a gym at a convenient location that provides premium service could be a paradise for you.\n",
    "\n",
    "In Hong Kong, gyms are not uncommon. However, most of them do not advertise and many of them are known for scamming their members and providing subquality services. Therefore, a system is required to visually display the gyms conveniently located along the railway in the city and provide recommendation base on the ratings of the gyms.\n",
    "\n",
    "In this project, first, a list of railway stations is scraped from an online website then combined with geospatial data of the stations obtained from Geocoder to form a dataframe. Next, Foursquare API is deployed to obtain metadata of venues near the stations, where the data of gyms are extracted from. Afterwards, the gyms are segmented according to their ratings and distances from station. Then, k-means clustering technique is adopted to allocate the gyms with similar characteristics into clusters. Z-score is calculated to categorize clusters to produce a rating scale and the walking time is calcualated to provide an estimate for the user. Last, a map is produced to illustrate the clustered members in the districts of Hong Kong for people to choose their gyms base on location, rating and walking distance.\n"
   ]
  },
  {
   "cell_type": "markdown",
   "metadata": {},
   "source": [
    "<h2>Potential Users</h2>\n"
   ]
  },
  {
   "cell_type": "markdown",
   "metadata": {},
   "source": [
    "1. Officer workers who lack time for exercise\n",
    "2. Sports trainers\n",
    "3. Healthcare specialists\n",
    "4. Gym managers"
   ]
  },
  {
   "cell_type": "markdown",
   "metadata": {},
   "source": [
    "<h2>Data source</h2>"
   ]
  },
  {
   "cell_type": "markdown",
   "metadata": {},
   "source": [
    "In this project, various types of data are utilized.\n",
    "\n",
    "<br>\n",
    "\n",
    "Following data is obtained from exploremetro.com:\n",
    "\n",
    "1. A list of MTR stations\n",
    "\n",
    "\n",
    "Following data is obtained from HK MTR Website:\n",
    "\n",
    "1. A list of new MTR stations\n",
    "\n",
    "\n",
    "Following geospatial data is obtained from the Geocoding API from Google Maps Platform:\n",
    "\n",
    "1. Latitude of a MTR stations\n",
    "\n",
    "2. Longitude of MTR stations\n",
    "\n",
    "3. Latitude of Tsuen Wan\n",
    "\n",
    "4. Longitude of Tsuen Wan\n",
    "\n",
    "\n",
    "Following location data are obtained from the Foursquare API:\n",
    "\n",
    "1. Venue ID\n",
    "\n",
    "2. Venue Name\n",
    "\n",
    "3. Venue Location (latitude and longitude, used for calculating walking distance)\n",
    "\n",
    "4. Venue Category\n",
    "\n",
    "5. Number of Likes (for determining ratings)"
   ]
  },
  {
   "cell_type": "markdown",
   "metadata": {},
   "source": []
  },
  {
   "cell_type": "markdown",
   "metadata": {},
   "source": [
    "<h2>Methodology</h2>"
   ]
  },
  {
   "cell_type": "markdown",
   "metadata": {},
   "source": [
    "To start with, BeautifulSoup library was used to scrape a table of Hong Kong MTR Stations from an online website. The information was stored in a dataframe.\n",
    "\n",
    "Then, data wringling was performed to remove columns containing unnecessary information, and new stations were manually added to the daraframe.\n",
    "\n",
    "Afterwards, latitude and longitude of the stations were obtained using Geocoder. A map of Hong Kong was also plotted with the geospatial data obtained using the same method. The map had markers to visualize the location of MTR stations.\n",
    "\n",
    "Foursquare API was then deployed to obtain metadata of venues in the districts. All the venues other than gyms were discarded.\n",
    "\n",
    "Next, the ID of the gyms were obtained from the API for the use of accessing the number of likes given by visitors to the gym. Also, the distance from a nearby station to the gym was calculated to determine the walking time needed.\n",
    "\n",
    "By using k-means clusetering techinque, the gyms were clustered according to the numbers of like and the walking distances. 4 clusters were tested to be best for clustering\n",
    "\n",
    "Z-score was also calculated to categorize clusters to produce a rating scale.\n",
    "\n",
    "Last, the dataframe was reorganized to display the information useful to the users; and a map was produced to illustrate the clustered members in the districts of Hong Kong for users to choose their gyms base on location, rating and walking distance.\n"
   ]
  },
  {
   "cell_type": "markdown",
   "metadata": {},
   "source": [
    "<h2>Result</h2>"
   ]
  },
  {
   "cell_type": "markdown",
   "metadata": {},
   "source": [
    "Upon statistical scrutiny on the 4 clusters, and with inference drawn to associate the number of likes to the quality of service. Following descriptions were made.\n",
    "\n",
    "cluster 0 represents gyms with low rating (bad quality of service) and little to average walking time.\n",
    "\n",
    "cluster 1 represents gyms with moderate rating (acceptable quality of service) and average to long walking time.\n",
    "\n",
    "cluster 2 represents gyms with high rating (satisfactory quality of service) and little to average walking time.\n",
    "\n",
    "cluster 3 represents gyms with very high rating (excellent quality of service) and below average to long walking time.\n",
    "\n"
   ]
  },
  {
   "cell_type": "markdown",
   "metadata": {},
   "source": [
    "<h2>Discussion</h2>"
   ]
  },
  {
   "cell_type": "markdown",
   "metadata": {},
   "source": [
    "The result shows that the k-means clustering technique successfully clustered the venues according to the number of likes on the Foursquare platform. Despite using z-score to normalize the two parameters, it seems that the like counts dominate the process, and the walking distance was behaving like an independent parameter, which does not affect the clustering process. \n",
    "\n",
    "As for the process of k-means clustering, I have set the optimum k value to multiple numbers to test how the data cluster into meaningful group. At last, k = 4 is selected such that clusters can be spaced out and categorized into 4 groups with different ratings.\n",
    "\n",
    "\n",
    "Nevertheless, with the clusters, users could identify gyms that provide different range of services, and the location of them on the map. Colored markers were used to show the users gyms with similar quality of services.\n",
    "\n",
    "From the result, it is observed that locations of Pure Fitness are all highly rated and are convenient. This agrees with the fact that Pure Fitness is the industry leader in Hong Kong and is well-known for its exceptional services. On the other hand, all Physical gyms were discovered to have low rating, and this also conforms to the reality that this brand advertises low-budget membership and was involved in scandals of scamming its customers.\n",
    "\n",
    "One interesting observation from the map is that almost all highly rated gyms are located in the Central and Western side. There is a huge demand for premium gyms locating in the CBD as opulent office workers starting to migrate to an active lifestyle.\n",
    " \n",
    "\n",
    "There were various limitations.\n",
    "\n",
    "Limitations:\n",
    "\n",
    "1. The inference that more likes equals better services might not be true, as gym-goers might not access the Foursquare app and give likes even when they are satisfied with the services.\n",
    "\n",
    "2. The number of gyms located is far less than the actual number. The limited information greatly hindered the effectiveness of the system.\n",
    "\n",
    "3. The radius of 500 meters from MTR stations might not be enough to cover all the gyms."
   ]
  },
  {
   "cell_type": "markdown",
   "metadata": {},
   "source": [
    "<h2>Conclusion</h2>"
   ]
  },
  {
   "cell_type": "markdown",
   "metadata": {},
   "source": [
    "In recent years, more and more people are turning to a healthy liftstyle. For this reason, the city needs more places for exercise and workout. \n",
    "\n",
    "This project is valuable to busy working class citizens who want to get active but could not spare too much time for it. Gyms locating along the railway allow easy access and is key to time saving. Along with the ratings, gym-goers could now decide where to go at just a glance. Now is the time to pack up and go workout."
   ]
  },
  {
   "cell_type": "code",
   "execution_count": null,
   "metadata": {},
   "outputs": [],
   "source": []
  }
 ],
 "metadata": {
  "kernelspec": {
   "display_name": "Python",
   "language": "python",
   "name": "conda-env-python-py"
  },
  "language_info": {
   "codemirror_mode": {
    "name": "ipython",
    "version": 3
   },
   "file_extension": ".py",
   "mimetype": "text/x-python",
   "name": "python",
   "nbconvert_exporter": "python",
   "pygments_lexer": "ipython3",
   "version": "3.6.7"
  }
 },
 "nbformat": 4,
 "nbformat_minor": 4
}
