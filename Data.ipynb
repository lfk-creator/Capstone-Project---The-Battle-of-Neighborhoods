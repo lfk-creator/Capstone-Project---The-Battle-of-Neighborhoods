{
 "cells": [
  {
   "cell_type": "markdown",
   "metadata": {},
   "source": [
    "<h1>Data source</h1>"
   ]
  },
  {
   "cell_type": "markdown",
   "metadata": {},
   "source": [
    "In this project, various types of data are utilized.\n",
    "\n",
    "<br>\n",
    "\n",
    "Following data are obtained from the Hong Kong Government Website:\n",
    "\n",
    "1. District Name\n",
    "\n",
    "Following geospatial data is obtained from the Geocoding API from Google Maps Platform:\n",
    "\n",
    "1. Latitude of districts\n",
    "\n",
    "2. Longitude of districts\n",
    "\n",
    "Following location data are obtained from the Foursquare API:\n",
    "\n",
    "1. Venue ID\n",
    "\n",
    "2. Venue Name\n",
    "\n",
    "3. Venue Location (latitude and longitude)\n",
    "\n",
    "4. Venue Category\n",
    "\n",
    "5. Number of Likes"
   ]
  },
  {
   "cell_type": "code",
   "execution_count": null,
   "metadata": {},
   "outputs": [],
   "source": []
  }
 ],
 "metadata": {
  "kernelspec": {
   "display_name": "Python",
   "language": "python",
   "name": "conda-env-python-py"
  },
  "language_info": {
   "codemirror_mode": {
    "name": "ipython",
    "version": 3
   },
   "file_extension": ".py",
   "mimetype": "text/x-python",
   "name": "python",
   "nbconvert_exporter": "python",
   "pygments_lexer": "ipython3",
   "version": "3.6.7"
  }
 },
 "nbformat": 4,
 "nbformat_minor": 4
}
